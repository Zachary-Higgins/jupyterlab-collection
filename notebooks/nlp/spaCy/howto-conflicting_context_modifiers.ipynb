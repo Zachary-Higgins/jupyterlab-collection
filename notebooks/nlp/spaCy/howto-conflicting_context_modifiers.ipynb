{
 "cells": [
  {
   "cell_type": "markdown",
   "metadata": {},
   "source": [
    "# Identify Conflicting Context Rules\n",
    "\n",
    "In this example, spaCy is used with the en_ner_bc5cdr_md corpus to extract named entities from a string of text found in a sample medical document. In the real world, this document could be much longer. Using the medspacy_context pipeline, context tags are added to identified entities to give them additional meaning.\n",
    "\n",
    "\n",
    "In part one of the example, the string is processed using the default model and context rules. Later on, additional context modifiers are applied, and demonstrate how to find conflicting rules that may produce unexpected/undesired results."
   ]
  },
  {
   "cell_type": "markdown",
   "metadata": {},
   "source": [
    "## Part 1 - Load the pretained model and dependencies.\n",
    "Install python dependencies"
   ]
  },
  {
   "cell_type": "code",
   "execution_count": null,
   "metadata": {
    "scrolled": true,
    "vscode": {
     "languageId": "bat"
    }
   },
   "outputs": [],
   "source": [
    "!python -m pip install pandas\n",
    "!python -m pip install spacy\n",
    "!python -m pip install medspacy"
   ]
  },
  {
   "cell_type": "markdown",
   "metadata": {},
   "source": [
    "### Install Pretrained Model"
   ]
  },
  {
   "cell_type": "code",
   "execution_count": null,
   "metadata": {
    "scrolled": true,
    "vscode": {
     "languageId": "bat"
    }
   },
   "outputs": [],
   "source": [
    "!python -m pip install https://s3-us-west-2.amazonaws.com/ai2-s2-scispacy/releases/v0.5.1/en_ner_bc5cdr_md-0.5.1.tar.gz"
   ]
  },
  {
   "cell_type": "markdown",
   "metadata": {},
   "source": [
    "## Part 2 - Load the document and process with pretrained model + context pipeline.\n",
    "\n",
    "This medical_doc variable in this example is a single sentence that would be part of a larger document. This was done to simplify the demonstration. Named entities are extracted using the en_ner_bc5cdr_md corpus and use the medspacy_context pipeline to tag entities with context modifications."
   ]
  },
  {
   "cell_type": "markdown",
   "metadata": {},
   "source": [
    "### Load Document Sentence"
   ]
  },
  {
   "cell_type": "code",
   "execution_count": 3,
   "metadata": {},
   "outputs": [],
   "source": [
    "medical_doc = \"REASON FOR NEUROLOGICAL CONSULTATION,  Muscle twitching, progressive dizziness, clumsiness, progressive pain syndrome, and gait disturbance.\""
   ]
  },
  {
   "cell_type": "markdown",
   "metadata": {},
   "source": [
    "### Load spaCy and medspaCy + Context Pipeline"
   ]
  },
  {
   "cell_type": "code",
   "execution_count": 4,
   "metadata": {},
   "outputs": [
    {
     "data": {
      "text/plain": [
       "<medspacy.context.context.ConText at 0x7f78d22dca10>"
      ]
     },
     "execution_count": 4,
     "metadata": {},
     "output_type": "execute_result"
    }
   ],
   "source": [
    "import spacy \n",
    "import medspacy\n",
    "from medspacy.context import ConText, ConTextRule\n",
    "from medspacy.visualization import visualize_ent, visualize_dep\n",
    "\n",
    "nlp = spacy.load(\"en_ner_bc5cdr_md\")\n",
    "nlp.add_pipe(\"medspacy_context\")"
   ]
  },
  {
   "cell_type": "code",
   "execution_count": 5,
   "metadata": {},
   "outputs": [
    {
     "data": {
      "text/html": [
       "<span class=\"tex2jax_ignore\"><div class=\"entities\" style=\"line-height: 2.5; direction: ltr\">REASON FOR NEUROLOGICAL CONSULTATION,  \n",
       "<mark class=\"entity\" style=\"background: #1f77b4; padding: 0.45em 0.6em; margin: 0 0.25em; line-height: 1; border-radius: 0.35em;\">\n",
       "    Muscle twitching\n",
       "    <span style=\"font-size: 0.8em; font-weight: bold; line-height: 1; border-radius: 0.35em; vertical-align: middle; margin-left: 0.5rem\">DISEASE</span>\n",
       "</mark>\n",
       ", progressive \n",
       "<mark class=\"entity\" style=\"background: #1f77b4; padding: 0.45em 0.6em; margin: 0 0.25em; line-height: 1; border-radius: 0.35em;\">\n",
       "    dizziness\n",
       "    <span style=\"font-size: 0.8em; font-weight: bold; line-height: 1; border-radius: 0.35em; vertical-align: middle; margin-left: 0.5rem\">DISEASE</span>\n",
       "</mark>\n",
       ", \n",
       "<mark class=\"entity\" style=\"background: #1f77b4; padding: 0.45em 0.6em; margin: 0 0.25em; line-height: 1; border-radius: 0.35em;\">\n",
       "    clumsiness\n",
       "    <span style=\"font-size: 0.8em; font-weight: bold; line-height: 1; border-radius: 0.35em; vertical-align: middle; margin-left: 0.5rem\">DISEASE</span>\n",
       "</mark>\n",
       ", progressive \n",
       "<mark class=\"entity\" style=\"background: #1f77b4; padding: 0.45em 0.6em; margin: 0 0.25em; line-height: 1; border-radius: 0.35em;\">\n",
       "    pain syndrome\n",
       "    <span style=\"font-size: 0.8em; font-weight: bold; line-height: 1; border-radius: 0.35em; vertical-align: middle; margin-left: 0.5rem\">DISEASE</span>\n",
       "</mark>\n",
       ", and gait disturbance.</div></span>"
      ],
      "text/plain": [
       "<IPython.core.display.HTML object>"
      ]
     },
     "metadata": {},
     "output_type": "display_data"
    }
   ],
   "source": [
    "doc = nlp(medical_doc)\n",
    "visualize_ent(doc)"
   ]
  },
  {
   "cell_type": "markdown",
   "metadata": {},
   "source": [
    "## Part 3 - Create a new context rule.\n",
    "\n",
    "In the previous example, none of the named entities had a context modifier applied. The next step in this demonstration shows how to create a context rule. Note that context_rule2 is added to demonstrate that it will not be tagged to any entities because it is cancelled by context_rule1.\n",
    "\n",
    "\n",
    "After running the last cell of this section, a context modifier is detected and our entities are tagged appropriately."
   ]
  },
  {
   "cell_type": "markdown",
   "metadata": {},
   "source": [
    "### Modify Context Rules"
   ]
  },
  {
   "cell_type": "code",
   "execution_count": 6,
   "metadata": {},
   "outputs": [
    {
     "data": {
      "text/html": [
       "<h3>Entity Visualization</h3>Note, PSUDEO_MODIFIER_1 doesnt exist as it was cancelled by PSUDEO_MODIFIER_0.<hr>"
      ],
      "text/plain": [
       "<IPython.core.display.HTML object>"
      ]
     },
     "metadata": {},
     "output_type": "display_data"
    },
    {
     "data": {
      "text/html": [
       "<span class=\"tex2jax_ignore\"><div class=\"entities\" style=\"line-height: 2.5; direction: ltr\">\n",
       "<mark class=\"entity\" style=\"background: #ff7f0e; padding: 0.45em 0.6em; margin: 0 0.25em; line-height: 1; border-radius: 0.35em;\">\n",
       "    REASON FOR\n",
       "    <span style=\"font-size: 0.8em; font-weight: bold; line-height: 1; border-radius: 0.35em; vertical-align: middle; margin-left: 0.5rem\">PSEUDO_MODIFIER_0</span>\n",
       "</mark>\n",
       " NEUROLOGICAL CONSULTATION,  \n",
       "<mark class=\"entity\" style=\"background: #2ca02c; padding: 0.45em 0.6em; margin: 0 0.25em; line-height: 1; border-radius: 0.35em;\">\n",
       "    Muscle twitching\n",
       "    <span style=\"font-size: 0.8em; font-weight: bold; line-height: 1; border-radius: 0.35em; vertical-align: middle; margin-left: 0.5rem\">DISEASE</span>\n",
       "</mark>\n",
       ", \n",
       "<mark class=\"entity\" style=\"background: #1f77b4; padding: 0.45em 0.6em; margin: 0 0.25em; line-height: 1; border-radius: 0.35em;\">\n",
       "    progressive\n",
       "    <span style=\"font-size: 0.8em; font-weight: bold; line-height: 1; border-radius: 0.35em; vertical-align: middle; margin-left: 0.5rem\">PSEUDO_MODIFIER_2</span>\n",
       "</mark>\n",
       " \n",
       "<mark class=\"entity\" style=\"background: #2ca02c; padding: 0.45em 0.6em; margin: 0 0.25em; line-height: 1; border-radius: 0.35em;\">\n",
       "    dizziness\n",
       "    <span style=\"font-size: 0.8em; font-weight: bold; line-height: 1; border-radius: 0.35em; vertical-align: middle; margin-left: 0.5rem\">DISEASE</span>\n",
       "</mark>\n",
       ", \n",
       "<mark class=\"entity\" style=\"background: #2ca02c; padding: 0.45em 0.6em; margin: 0 0.25em; line-height: 1; border-radius: 0.35em;\">\n",
       "    clumsiness\n",
       "    <span style=\"font-size: 0.8em; font-weight: bold; line-height: 1; border-radius: 0.35em; vertical-align: middle; margin-left: 0.5rem\">DISEASE</span>\n",
       "</mark>\n",
       ", \n",
       "<mark class=\"entity\" style=\"background: #1f77b4; padding: 0.45em 0.6em; margin: 0 0.25em; line-height: 1; border-radius: 0.35em;\">\n",
       "    progressive\n",
       "    <span style=\"font-size: 0.8em; font-weight: bold; line-height: 1; border-radius: 0.35em; vertical-align: middle; margin-left: 0.5rem\">PSEUDO_MODIFIER_2</span>\n",
       "</mark>\n",
       " \n",
       "<mark class=\"entity\" style=\"background: #2ca02c; padding: 0.45em 0.6em; margin: 0 0.25em; line-height: 1; border-radius: 0.35em;\">\n",
       "    pain syndrome\n",
       "    <span style=\"font-size: 0.8em; font-weight: bold; line-height: 1; border-radius: 0.35em; vertical-align: middle; margin-left: 0.5rem\">DISEASE</span>\n",
       "</mark>\n",
       ", and gait disturbance.</div></span>"
      ],
      "text/plain": [
       "<IPython.core.display.HTML object>"
      ]
     },
     "metadata": {},
     "output_type": "display_data"
    },
    {
     "data": {
      "text/html": [
       "<h3>Dependency Visualization</h3><hr>"
      ],
      "text/plain": [
       "<IPython.core.display.HTML object>"
      ]
     },
     "metadata": {},
     "output_type": "display_data"
    },
    {
     "data": {
      "text/html": [
       "<span class=\"tex2jax_ignore\"><svg xmlns=\"http://www.w3.org/2000/svg\" xmlns:xlink=\"http://www.w3.org/1999/xlink\" xml:lang=\"en\" id=\"3061460d70c447258acb0d99d0306426-0\" class=\"displacy\" width=\"3375\" height=\"487.0\" direction=\"ltr\" style=\"max-width: none; height: 487.0px; color: #000000; background: #ffffff; font-family: Arial; direction: ltr\">\n",
       "<text class=\"displacy-token\" fill=\"currentColor\" text-anchor=\"middle\" y=\"397.0\">\n",
       "    <tspan class=\"displacy-word\" fill=\"currentColor\" x=\"50\">REASON FOR</tspan>\n",
       "    <tspan class=\"displacy-tag\" dy=\"2em\" fill=\"currentColor\" x=\"50\">PSEUDO_MODIFIER_0</tspan>\n",
       "</text>\n",
       "\n",
       "<text class=\"displacy-token\" fill=\"currentColor\" text-anchor=\"middle\" y=\"397.0\">\n",
       "    <tspan class=\"displacy-word\" fill=\"currentColor\" x=\"225\">NEUROLOGICAL</tspan>\n",
       "    <tspan class=\"displacy-tag\" dy=\"2em\" fill=\"currentColor\" x=\"225\"></tspan>\n",
       "</text>\n",
       "\n",
       "<text class=\"displacy-token\" fill=\"currentColor\" text-anchor=\"middle\" y=\"397.0\">\n",
       "    <tspan class=\"displacy-word\" fill=\"currentColor\" x=\"400\">CONSULTATION</tspan>\n",
       "    <tspan class=\"displacy-tag\" dy=\"2em\" fill=\"currentColor\" x=\"400\"></tspan>\n",
       "</text>\n",
       "\n",
       "<text class=\"displacy-token\" fill=\"currentColor\" text-anchor=\"middle\" y=\"397.0\">\n",
       "    <tspan class=\"displacy-word\" fill=\"currentColor\" x=\"575\">,</tspan>\n",
       "    <tspan class=\"displacy-tag\" dy=\"2em\" fill=\"currentColor\" x=\"575\"></tspan>\n",
       "</text>\n",
       "\n",
       "<text class=\"displacy-token\" fill=\"currentColor\" text-anchor=\"middle\" y=\"397.0\">\n",
       "    <tspan class=\"displacy-word\" fill=\"currentColor\" x=\"750\"> </tspan>\n",
       "    <tspan class=\"displacy-tag\" dy=\"2em\" fill=\"currentColor\" x=\"750\"></tspan>\n",
       "</text>\n",
       "\n",
       "<text class=\"displacy-token\" fill=\"currentColor\" text-anchor=\"middle\" y=\"397.0\">\n",
       "    <tspan class=\"displacy-word\" fill=\"currentColor\" x=\"925\">Muscle twitching</tspan>\n",
       "    <tspan class=\"displacy-tag\" dy=\"2em\" fill=\"currentColor\" x=\"925\">DISEASE</tspan>\n",
       "</text>\n",
       "\n",
       "<text class=\"displacy-token\" fill=\"currentColor\" text-anchor=\"middle\" y=\"397.0\">\n",
       "    <tspan class=\"displacy-word\" fill=\"currentColor\" x=\"1100\">,</tspan>\n",
       "    <tspan class=\"displacy-tag\" dy=\"2em\" fill=\"currentColor\" x=\"1100\"></tspan>\n",
       "</text>\n",
       "\n",
       "<text class=\"displacy-token\" fill=\"currentColor\" text-anchor=\"middle\" y=\"397.0\">\n",
       "    <tspan class=\"displacy-word\" fill=\"currentColor\" x=\"1275\">progressive</tspan>\n",
       "    <tspan class=\"displacy-tag\" dy=\"2em\" fill=\"currentColor\" x=\"1275\">PSEUDO_MODIFIER_2</tspan>\n",
       "</text>\n",
       "\n",
       "<text class=\"displacy-token\" fill=\"currentColor\" text-anchor=\"middle\" y=\"397.0\">\n",
       "    <tspan class=\"displacy-word\" fill=\"currentColor\" x=\"1450\">dizziness</tspan>\n",
       "    <tspan class=\"displacy-tag\" dy=\"2em\" fill=\"currentColor\" x=\"1450\">DISEASE</tspan>\n",
       "</text>\n",
       "\n",
       "<text class=\"displacy-token\" fill=\"currentColor\" text-anchor=\"middle\" y=\"397.0\">\n",
       "    <tspan class=\"displacy-word\" fill=\"currentColor\" x=\"1625\">,</tspan>\n",
       "    <tspan class=\"displacy-tag\" dy=\"2em\" fill=\"currentColor\" x=\"1625\"></tspan>\n",
       "</text>\n",
       "\n",
       "<text class=\"displacy-token\" fill=\"currentColor\" text-anchor=\"middle\" y=\"397.0\">\n",
       "    <tspan class=\"displacy-word\" fill=\"currentColor\" x=\"1800\">clumsiness</tspan>\n",
       "    <tspan class=\"displacy-tag\" dy=\"2em\" fill=\"currentColor\" x=\"1800\">DISEASE</tspan>\n",
       "</text>\n",
       "\n",
       "<text class=\"displacy-token\" fill=\"currentColor\" text-anchor=\"middle\" y=\"397.0\">\n",
       "    <tspan class=\"displacy-word\" fill=\"currentColor\" x=\"1975\">,</tspan>\n",
       "    <tspan class=\"displacy-tag\" dy=\"2em\" fill=\"currentColor\" x=\"1975\"></tspan>\n",
       "</text>\n",
       "\n",
       "<text class=\"displacy-token\" fill=\"currentColor\" text-anchor=\"middle\" y=\"397.0\">\n",
       "    <tspan class=\"displacy-word\" fill=\"currentColor\" x=\"2150\">progressive</tspan>\n",
       "    <tspan class=\"displacy-tag\" dy=\"2em\" fill=\"currentColor\" x=\"2150\">PSEUDO_MODIFIER_2</tspan>\n",
       "</text>\n",
       "\n",
       "<text class=\"displacy-token\" fill=\"currentColor\" text-anchor=\"middle\" y=\"397.0\">\n",
       "    <tspan class=\"displacy-word\" fill=\"currentColor\" x=\"2325\">pain syndrome</tspan>\n",
       "    <tspan class=\"displacy-tag\" dy=\"2em\" fill=\"currentColor\" x=\"2325\">DISEASE</tspan>\n",
       "</text>\n",
       "\n",
       "<text class=\"displacy-token\" fill=\"currentColor\" text-anchor=\"middle\" y=\"397.0\">\n",
       "    <tspan class=\"displacy-word\" fill=\"currentColor\" x=\"2500\">,</tspan>\n",
       "    <tspan class=\"displacy-tag\" dy=\"2em\" fill=\"currentColor\" x=\"2500\"></tspan>\n",
       "</text>\n",
       "\n",
       "<text class=\"displacy-token\" fill=\"currentColor\" text-anchor=\"middle\" y=\"397.0\">\n",
       "    <tspan class=\"displacy-word\" fill=\"currentColor\" x=\"2675\">and</tspan>\n",
       "    <tspan class=\"displacy-tag\" dy=\"2em\" fill=\"currentColor\" x=\"2675\"></tspan>\n",
       "</text>\n",
       "\n",
       "<text class=\"displacy-token\" fill=\"currentColor\" text-anchor=\"middle\" y=\"397.0\">\n",
       "    <tspan class=\"displacy-word\" fill=\"currentColor\" x=\"2850\">gait</tspan>\n",
       "    <tspan class=\"displacy-tag\" dy=\"2em\" fill=\"currentColor\" x=\"2850\"></tspan>\n",
       "</text>\n",
       "\n",
       "<text class=\"displacy-token\" fill=\"currentColor\" text-anchor=\"middle\" y=\"397.0\">\n",
       "    <tspan class=\"displacy-word\" fill=\"currentColor\" x=\"3025\">disturbance</tspan>\n",
       "    <tspan class=\"displacy-tag\" dy=\"2em\" fill=\"currentColor\" x=\"3025\"></tspan>\n",
       "</text>\n",
       "\n",
       "<text class=\"displacy-token\" fill=\"currentColor\" text-anchor=\"middle\" y=\"397.0\">\n",
       "    <tspan class=\"displacy-word\" fill=\"currentColor\" x=\"3200\">.</tspan>\n",
       "    <tspan class=\"displacy-tag\" dy=\"2em\" fill=\"currentColor\" x=\"3200\"></tspan>\n",
       "</text>\n",
       "\n",
       "<g class=\"displacy-arrow\">\n",
       "    <path class=\"displacy-arc\" id=\"arrow-3061460d70c447258acb0d99d0306426-0-0\" stroke-width=\"2px\" d=\"M70,352.0 C70,264.5 910.0,264.5 910.0,352.0\" fill=\"none\" stroke=\"currentColor\"/>\n",
       "    <text dy=\"1.25em\" style=\"font-size: 0.8em; letter-spacing: 1px\">\n",
       "        <textPath xlink:href=\"#arrow-3061460d70c447258acb0d99d0306426-0-0\" class=\"displacy-label\" startOffset=\"50%\" side=\"left\" fill=\"currentColor\" text-anchor=\"middle\">PSEUDO_MODIFIER_0</textPath>\n",
       "    </text>\n",
       "    <path class=\"displacy-arrowhead\" d=\"M910.0,354.0 L918.0,342.0 902.0,342.0\" fill=\"currentColor\"/>\n",
       "</g>\n",
       "\n",
       "<g class=\"displacy-arrow\">\n",
       "    <path class=\"displacy-arc\" id=\"arrow-3061460d70c447258acb0d99d0306426-0-1\" stroke-width=\"2px\" d=\"M70,352.0 C70,177.0 1440.0,177.0 1440.0,352.0\" fill=\"none\" stroke=\"currentColor\"/>\n",
       "    <text dy=\"1.25em\" style=\"font-size: 0.8em; letter-spacing: 1px\">\n",
       "        <textPath xlink:href=\"#arrow-3061460d70c447258acb0d99d0306426-0-1\" class=\"displacy-label\" startOffset=\"50%\" side=\"left\" fill=\"currentColor\" text-anchor=\"middle\">PSEUDO_MODIFIER_0</textPath>\n",
       "    </text>\n",
       "    <path class=\"displacy-arrowhead\" d=\"M1440.0,354.0 L1448.0,342.0 1432.0,342.0\" fill=\"currentColor\"/>\n",
       "</g>\n",
       "\n",
       "<g class=\"displacy-arrow\">\n",
       "    <path class=\"displacy-arc\" id=\"arrow-3061460d70c447258acb0d99d0306426-0-2\" stroke-width=\"2px\" d=\"M70,352.0 C70,89.5 1795.0,89.5 1795.0,352.0\" fill=\"none\" stroke=\"currentColor\"/>\n",
       "    <text dy=\"1.25em\" style=\"font-size: 0.8em; letter-spacing: 1px\">\n",
       "        <textPath xlink:href=\"#arrow-3061460d70c447258acb0d99d0306426-0-2\" class=\"displacy-label\" startOffset=\"50%\" side=\"left\" fill=\"currentColor\" text-anchor=\"middle\">PSEUDO_MODIFIER_0</textPath>\n",
       "    </text>\n",
       "    <path class=\"displacy-arrowhead\" d=\"M1795.0,354.0 L1803.0,342.0 1787.0,342.0\" fill=\"currentColor\"/>\n",
       "</g>\n",
       "\n",
       "<g class=\"displacy-arrow\">\n",
       "    <path class=\"displacy-arc\" id=\"arrow-3061460d70c447258acb0d99d0306426-0-3\" stroke-width=\"2px\" d=\"M70,352.0 C70,2.0 2325.0,2.0 2325.0,352.0\" fill=\"none\" stroke=\"currentColor\"/>\n",
       "    <text dy=\"1.25em\" style=\"font-size: 0.8em; letter-spacing: 1px\">\n",
       "        <textPath xlink:href=\"#arrow-3061460d70c447258acb0d99d0306426-0-3\" class=\"displacy-label\" startOffset=\"50%\" side=\"left\" fill=\"currentColor\" text-anchor=\"middle\">PSEUDO_MODIFIER_0</textPath>\n",
       "    </text>\n",
       "    <path class=\"displacy-arrowhead\" d=\"M2325.0,354.0 L2333.0,342.0 2317.0,342.0\" fill=\"currentColor\"/>\n",
       "</g>\n",
       "\n",
       "<g class=\"displacy-arrow\">\n",
       "    <path class=\"displacy-arc\" id=\"arrow-3061460d70c447258acb0d99d0306426-0-4\" stroke-width=\"2px\" d=\"M1295,352.0 C1295,264.5 1435.0,264.5 1435.0,352.0\" fill=\"none\" stroke=\"currentColor\"/>\n",
       "    <text dy=\"1.25em\" style=\"font-size: 0.8em; letter-spacing: 1px\">\n",
       "        <textPath xlink:href=\"#arrow-3061460d70c447258acb0d99d0306426-0-4\" class=\"displacy-label\" startOffset=\"50%\" side=\"left\" fill=\"currentColor\" text-anchor=\"middle\">PSEUDO_MODIFIER_2</textPath>\n",
       "    </text>\n",
       "    <path class=\"displacy-arrowhead\" d=\"M1435.0,354.0 L1443.0,342.0 1427.0,342.0\" fill=\"currentColor\"/>\n",
       "</g>\n",
       "\n",
       "<g class=\"displacy-arrow\">\n",
       "    <path class=\"displacy-arc\" id=\"arrow-3061460d70c447258acb0d99d0306426-0-5\" stroke-width=\"2px\" d=\"M2170,352.0 C2170,264.5 2310.0,264.5 2310.0,352.0\" fill=\"none\" stroke=\"currentColor\"/>\n",
       "    <text dy=\"1.25em\" style=\"font-size: 0.8em; letter-spacing: 1px\">\n",
       "        <textPath xlink:href=\"#arrow-3061460d70c447258acb0d99d0306426-0-5\" class=\"displacy-label\" startOffset=\"50%\" side=\"left\" fill=\"currentColor\" text-anchor=\"middle\">PSEUDO_MODIFIER_2</textPath>\n",
       "    </text>\n",
       "    <path class=\"displacy-arrowhead\" d=\"M2310.0,354.0 L2318.0,342.0 2302.0,342.0\" fill=\"currentColor\"/>\n",
       "</g>\n",
       "</svg></span>"
      ],
      "text/plain": [
       "<IPython.core.display.HTML object>"
      ]
     },
     "metadata": {},
     "output_type": "display_data"
    },
    {
     "data": {
      "text/html": [
       "<h3>Modifiers</h3>Note that both modifiers are valid, however the first one overrides the second, and we only see \"PSEUDO_MODIFIER_0\" applied to each entity.<hr>"
      ],
      "text/plain": [
       "<IPython.core.display.HTML object>"
      ]
     },
     "metadata": {},
     "output_type": "display_data"
    },
    {
     "data": {
      "text/html": [
       "<div>\n",
       "<style scoped>\n",
       "    .dataframe tbody tr th:only-of-type {\n",
       "        vertical-align: middle;\n",
       "    }\n",
       "\n",
       "    .dataframe tbody tr th {\n",
       "        vertical-align: top;\n",
       "    }\n",
       "\n",
       "    .dataframe thead th {\n",
       "        text-align: right;\n",
       "    }\n",
       "</style>\n",
       "<table border=\"1\" class=\"dataframe\">\n",
       "  <thead>\n",
       "    <tr style=\"text-align: right;\">\n",
       "      <th></th>\n",
       "      <th>Active_Rule</th>\n",
       "    </tr>\n",
       "    <tr>\n",
       "      <th>Ent</th>\n",
       "      <th></th>\n",
       "    </tr>\n",
       "  </thead>\n",
       "  <tbody>\n",
       "    <tr>\n",
       "      <th>Muscle twitching</th>\n",
       "      <td>[(PSEUDO_MODIFIER_0, FORWARD, reason for)]</td>\n",
       "    </tr>\n",
       "    <tr>\n",
       "      <th>dizziness</th>\n",
       "      <td>[(PSEUDO_MODIFIER_0, FORWARD, reason for), (PS...</td>\n",
       "    </tr>\n",
       "    <tr>\n",
       "      <th>clumsiness</th>\n",
       "      <td>[(PSEUDO_MODIFIER_0, FORWARD, reason for)]</td>\n",
       "    </tr>\n",
       "    <tr>\n",
       "      <th>pain syndrome</th>\n",
       "      <td>[(PSEUDO_MODIFIER_0, FORWARD, reason for), (PS...</td>\n",
       "    </tr>\n",
       "  </tbody>\n",
       "</table>\n",
       "</div>"
      ],
      "text/plain": [
       "                                                        Active_Rule\n",
       "Ent                                                                \n",
       "Muscle twitching         [(PSEUDO_MODIFIER_0, FORWARD, reason for)]\n",
       "dizziness         [(PSEUDO_MODIFIER_0, FORWARD, reason for), (PS...\n",
       "clumsiness               [(PSEUDO_MODIFIER_0, FORWARD, reason for)]\n",
       "pain syndrome     [(PSEUDO_MODIFIER_0, FORWARD, reason for), (PS..."
      ]
     },
     "execution_count": 6,
     "metadata": {},
     "output_type": "execute_result"
    }
   ],
   "source": [
    "context = ConText(nlp, rules=None)\n",
    "context_rule1 = ConTextRule(\"REASON FOR\", \"PSEUDO_MODIFIER_0\", direction=\"FORWARD\", pattern=\"reason for\")\n",
    "context_rule2 = ConTextRule(\"REASON FOR\", \"PSEUDO_MODIFIER_1\", direction=\"FORWARD\", pattern=\"reason\") # Note the first matching rule is used\n",
    "context_rule3 = ConTextRule(\"PROGRESSIVE\", \"PSEUDO_MODIFIER_2\", direction=\"BIDIRECTIONAL\", pattern=[{\"LOWER\": \"progressive\"}], max_targets=1, terminated_by={\"PUNC\"})\n",
    "context.add([context_rule1, context_rule2, context_rule3])\n",
    "context.rules\n",
    "\n",
    "doc = nlp(medical_doc)\n",
    "context(doc)\n",
    "\n",
    "###########################################################\n",
    "\n",
    "from IPython.display import display, HTML\n",
    "\n",
    "display(HTML('<h3>Entity Visualization</h3>Note, PSUDEO_MODIFIER_1 doesnt exist as it was cancelled by PSUDEO_MODIFIER_0.<hr>'))\n",
    "visualize_ent(doc)\n",
    "\n",
    "display(HTML('<h3>Dependency Visualization</h3><hr>'))\n",
    "visualize_dep(doc)\n",
    "\n",
    "display(HTML('<h3>Modifiers</h3>Note that both modifiers are valid, however the first one overrides the second, and we only see \"PSEUDO_MODIFIER_0\" applied to each entity.<hr>'))\n",
    "import pandas as pd\n",
    "pd_mods = pd.DataFrame([(x.text, [(y.rule.category, y.rule.direction, y.rule.pattern) for y in x._.modifiers]) for x in doc.ents], columns=[\"Ent\", \"Active_Rule\"])\n",
    "pd_mods = pd_mods.set_index(\"Ent\")\n",
    "pd_mods\n"
   ]
  },
  {
   "cell_type": "markdown",
   "metadata": {},
   "source": [
    "## Part 4 - Find conflicting context rules.\n",
    "\n",
    "In the example above, PSEUDO_MODIFIER_1 is missing, however PSEUDO_MODIFIER_0 is present. In this example, each context rule is extracted and executed individually. All valid rules are saved to an array and compared with the \"active\" rules that exist when all context rules are used at the same time.\n",
    "\n",
    "This is useful to identify when a rule may be valid, but was cancelled by another rule.\n",
    "\n",
    "In this case, \"reason for\" matches the pattern in PSEUDO_MODIFIER_0. The same string cannot be used in PSEUDO_MODIFIER_1."
   ]
  },
  {
   "cell_type": "markdown",
   "metadata": {},
   "source": [
    "### Find All Potential Context Modifications for Each Entity"
   ]
  },
  {
   "cell_type": "code",
   "execution_count": 8,
   "metadata": {},
   "outputs": [],
   "source": [
    "# Find All Context Modifications For Each Entity\n",
    "\n",
    "mod_ents = []\n",
    "\n",
    "for rule in context.rules:\n",
    "    itr_context = ConText(nlp, rules=None)\n",
    "    itr_context.add([rule])    \n",
    "    \n",
    "    doc = nlp(medical_doc)\n",
    "    itr_context(doc)    \n",
    "    \n",
    "    mod_ents.extend([(x.text, [(y.rule.category, y.rule.direction, y.rule.pattern) for y in x._.modifiers]) for x in doc.ents])\n",
    "\n",
    "pd_all_mods = pd.DataFrame(mod_ents, columns=[\"Ent\", \"All_Rule\"])"
   ]
  },
  {
   "cell_type": "code",
   "execution_count": 9,
   "metadata": {},
   "outputs": [
    {
     "data": {
      "text/html": [
       "<div>\n",
       "<style scoped>\n",
       "    .dataframe tbody tr th:only-of-type {\n",
       "        vertical-align: middle;\n",
       "    }\n",
       "\n",
       "    .dataframe tbody tr th {\n",
       "        vertical-align: top;\n",
       "    }\n",
       "\n",
       "    .dataframe thead th {\n",
       "        text-align: right;\n",
       "    }\n",
       "</style>\n",
       "<table border=\"1\" class=\"dataframe\">\n",
       "  <thead>\n",
       "    <tr style=\"text-align: right;\">\n",
       "      <th></th>\n",
       "      <th>Active_Rule</th>\n",
       "      <th>Cancelled_Rule</th>\n",
       "    </tr>\n",
       "    <tr>\n",
       "      <th>Ent</th>\n",
       "      <th></th>\n",
       "      <th></th>\n",
       "    </tr>\n",
       "  </thead>\n",
       "  <tbody>\n",
       "    <tr>\n",
       "      <th>Muscle twitching</th>\n",
       "      <td>[(PSEUDO_MODIFIER_0, FORWARD, reason for)]</td>\n",
       "      <td>[(PSEUDO_MODIFIER_1, FORWARD, reason)]</td>\n",
       "    </tr>\n",
       "    <tr>\n",
       "      <th>dizziness</th>\n",
       "      <td>[(PSEUDO_MODIFIER_0, FORWARD, reason for), (PS...</td>\n",
       "      <td>[(PSEUDO_MODIFIER_1, FORWARD, reason)]</td>\n",
       "    </tr>\n",
       "    <tr>\n",
       "      <th>clumsiness</th>\n",
       "      <td>[(PSEUDO_MODIFIER_0, FORWARD, reason for)]</td>\n",
       "      <td>[(PSEUDO_MODIFIER_1, FORWARD, reason)]</td>\n",
       "    </tr>\n",
       "    <tr>\n",
       "      <th>pain syndrome</th>\n",
       "      <td>[(PSEUDO_MODIFIER_0, FORWARD, reason for), (PS...</td>\n",
       "      <td>[(PSEUDO_MODIFIER_1, FORWARD, reason)]</td>\n",
       "    </tr>\n",
       "  </tbody>\n",
       "</table>\n",
       "</div>"
      ],
      "text/plain": [
       "                                                        Active_Rule  \\\n",
       "Ent                                                                   \n",
       "Muscle twitching         [(PSEUDO_MODIFIER_0, FORWARD, reason for)]   \n",
       "dizziness         [(PSEUDO_MODIFIER_0, FORWARD, reason for), (PS...   \n",
       "clumsiness               [(PSEUDO_MODIFIER_0, FORWARD, reason for)]   \n",
       "pain syndrome     [(PSEUDO_MODIFIER_0, FORWARD, reason for), (PS...   \n",
       "\n",
       "                                          Cancelled_Rule  \n",
       "Ent                                                       \n",
       "Muscle twitching  [(PSEUDO_MODIFIER_1, FORWARD, reason)]  \n",
       "dizziness         [(PSEUDO_MODIFIER_1, FORWARD, reason)]  \n",
       "clumsiness        [(PSEUDO_MODIFIER_1, FORWARD, reason)]  \n",
       "pain syndrome     [(PSEUDO_MODIFIER_1, FORWARD, reason)]  "
      ]
     },
     "execution_count": 9,
     "metadata": {},
     "output_type": "execute_result"
    }
   ],
   "source": [
    "# Group And Flatten Ent Modifications\n",
    "\n",
    "def flatten_nested_list(items):\n",
    "    results = []\n",
    "    for item in items:\n",
    "        if item not in results:\n",
    "            results += item\n",
    "    return results\n",
    "\n",
    "pd_all_mods_grouped = pd_all_mods.groupby('Ent', axis=\"rows\").agg(lambda x: flatten_nested_list(list(x)))\n",
    "\n",
    "\n",
    "# Join Dataframes\n",
    "pd_mods_joined = pd_mods.join(pd_all_mods_grouped)\n",
    "pd_mods_joined.reset_index()\n",
    "\n",
    "\n",
    "# Find missing rules\n",
    "def find_overridden(all, active):\n",
    "    for a in active:\n",
    "        if a in all:\n",
    "            all.remove(a)\n",
    "    return all\n",
    "\n",
    "pd_mods_joined['All_Rule'] = pd_mods_joined.apply(lambda x: find_overridden(x['All_Rule'], x['Active_Rule']), axis=1)\n",
    "pd_mods_joined = pd_mods_joined.rename(columns={\"All_Rule\": \"Cancelled_Rule\"}, errors=\"raise\")\n",
    "pd_mods_joined"
   ]
  }
 ],
 "metadata": {
  "kernelspec": {
   "display_name": "Python 3 (ipykernel)",
   "language": "python",
   "name": "python3"
  },
  "language_info": {
   "codemirror_mode": {
    "name": "ipython",
    "version": 3
   },
   "file_extension": ".py",
   "mimetype": "text/x-python",
   "name": "python",
   "nbconvert_exporter": "python",
   "pygments_lexer": "ipython3",
   "version": "3.11.5"
  }
 },
 "nbformat": 4,
 "nbformat_minor": 4
}
