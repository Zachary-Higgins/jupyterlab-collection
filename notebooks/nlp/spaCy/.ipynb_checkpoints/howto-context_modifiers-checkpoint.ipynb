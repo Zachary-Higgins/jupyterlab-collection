{
 "cells": [
  {
   "cell_type": "markdown",
   "metadata": {},
   "source": [
    "# Creating A Context Rule w/medspaCy Context Pipeline.\n",
    "\n",
    "In this example, spaCy is used with the en_ner_bc5cdr_md corpus to extract named entities from a string of text found in a sample medical document. Using the medspaCy context pipeline, entities can be tagged with contextual modifiers to give them additional meaning.\n",
    "\n",
    "To use the default context rules, use this:\n",
    "```\n",
    "doc = nlp(\"...\")\n",
    "context = ConText(nlp, rules=None)\n",
    "context(doc)\n",
    "```"
   ]
  },
  {
   "cell_type": "code",
   "execution_count": 13,
   "metadata": {
    "vscode": {
     "languageId": "bat"
    }
   },
   "outputs": [
    {
     "name": "stdout",
     "output_type": "stream",
     "text": [
      "Help on ConText in module medspacy.context.context object:\n",
      "\n",
      "class ConText(builtins.object)\n",
      " |  ConText(nlp: spacy.language.Language, name: str = 'medspacy_context', rules: Optional[str] = 'default', phrase_matcher_attr: str = 'LOWER', allowed_types: Optional[Set[str]] = None, excluded_types: Optional[Set[str]] = None, terminating_types: Optional[Dict[str, Iterable[str]]] = None, max_scope: Optional[int] = None, max_targets: Optional[int] = None, prune_on_modifier_overlap: bool = True, prune_on_target_overlap: bool = False, span_attrs: Union[Literal['default'], Dict[str, Dict[str, Any]], NoneType] = 'default', input_span_type: Literal['ents', 'group'] = 'ents', span_group_name: str = 'medspacy_spans')\n",
      " |  \n",
      " |  The ConText for spaCy processing.\n",
      " |  \n",
      " |  This component matches modifiers in a Doc, defines their scope, and identifies edges between targets and modifiers.\n",
      " |  Sets two spaCy extensions:\n",
      " |          - Span._.modifiers: a list of ConTextModifier objects which modify a target Span\n",
      " |          - Doc._.context_graph: a ConText graph object which contains the targets,\n",
      " |              modifiers, and edges between them.\n",
      " |  \n",
      " |  Methods defined here:\n",
      " |  \n",
      " |  __call__(self, doc, targets: str = None) -> spacy.tokens.doc.Doc\n",
      " |      Applies the ConText algorithm to a Doc.\n",
      " |      \n",
      " |      Args:\n",
      " |          doc: The spaCy Doc to process.\n",
      " |          targets: The optional custom attribute extension on doc to run over. Must contain an iterable of Span objects\n",
      " |      \n",
      " |      Returns:\n",
      " |          The processed spaCy Doc.\n",
      " |  \n",
      " |  __init__(self, nlp: spacy.language.Language, name: str = 'medspacy_context', rules: Optional[str] = 'default', phrase_matcher_attr: str = 'LOWER', allowed_types: Optional[Set[str]] = None, excluded_types: Optional[Set[str]] = None, terminating_types: Optional[Dict[str, Iterable[str]]] = None, max_scope: Optional[int] = None, max_targets: Optional[int] = None, prune_on_modifier_overlap: bool = True, prune_on_target_overlap: bool = False, span_attrs: Union[Literal['default'], Dict[str, Dict[str, Any]], NoneType] = 'default', input_span_type: Literal['ents', 'group'] = 'ents', span_group_name: str = 'medspacy_spans')\n",
      " |      Creates a new ConText object.\n",
      " |      \n",
      " |      Args:\n",
      " |          nlp: A SpaCy Language object.\n",
      " |          name: The name of the component.\n",
      " |          rules: The rules to load. Default is \"default\", loads rules packaged with medspaCy that are derived from\n",
      " |              original ConText rules and years of practical applications at the US Department of Veterans Affairs.  If\n",
      " |              None, no rules are loaded. Otherwise, must be a path to a json file containing rules. Add ConTextRules\n",
      " |              directly through `ConText.add`.\n",
      " |          phrase_matcher_attr: The token attribute to use for PhraseMatcher for rules where `pattern` is None. Default\n",
      " |              is 'LOWER'.\n",
      " |          allowed_types: A global list of types included by context. Rules will operate on only spans with these\n",
      " |              labels.\n",
      " |          excluded_types: A global list of types excluded by context. Rules will not operate on spans with these\n",
      " |              labels.\n",
      " |          terminating_types: A global map of types to the types that can terminate them. This can be used to apply\n",
      " |              terminations to all rules of a particular type rather than adding to every rule individually in the\n",
      " |              ContextRule object.\n",
      " |          max_scope: The number of tokens around a modifier in a target can be modified. Default value is None,\n",
      " |              Context will use the sentence boundaries. If a value greater than zero, applies the window globally.\n",
      " |              Both options will be overridden by a more specific value in a ContextRule.\n",
      " |          max_targets: The maximum number of targets a modifier can modify. Default value is None, context will modify\n",
      " |              all targets in its scope. If a value greater than zero, applies this value globally. Both options will\n",
      " |              be overridden by a more specific value in a ContextRule.\n",
      " |          prune_on_modifier_overlap: Whether to prune modifiers which are substrings of another modifier. If True,\n",
      " |              will drop substrings completely. For example, if \"no history of\"  and \"history of\" are both\n",
      " |              ConTextRules,both will match the text \"no history of afib\", but only \"no  history of\" should modify\n",
      " |              afib. Default True.\n",
      " |          prune_on_target_overlap: Whether to remove any matched modifiers which overlap with target entities. If\n",
      " |              False, any overlapping modifiers will not modify the overlapping entity but will still modify any other\n",
      " |              targets in its scope. Default False.\n",
      " |          span_attrs: The optional span attributes to modify. Default option \"default\" uses attributes in\n",
      " |              `DEFAULT_ATTRIBUTES`. If a dictionary, format is mapping context modifier categories to a dictionary\n",
      " |              containing the attribute name and the value to set the attribute to when a  span is modified by a\n",
      " |              modifier of that category. If None, no attributes will be modified.\n",
      " |          input_span_type: \"ents\" or \"group\". Where to look for targets. \"ents\" will modify attributes of spans\n",
      " |              in doc.ents. \"group\" will modify attributes of spans in the span group specified by `span_group_name`.\n",
      " |          span_group_name: The name of the span group used when `input_span_type` is \"group\". Default is\n",
      " |              \"medspacy_spans\".\n",
      " |  \n",
      " |  add(self, rules)\n",
      " |      Adds ConTextRules to Context.\n",
      " |      \n",
      " |      Args:\n",
      " |          rules: A single ConTextRule or a collection of ConTextRules to add to the Sectionizer.\n",
      " |  \n",
      " |  set_context_attributes(self, edges)\n",
      " |      Adds Span-level attributes to targets with modifiers.\n",
      " |      \n",
      " |      Args:\n",
      " |          edges: The edges of the ContextGraph to modify.\n",
      " |  \n",
      " |  ----------------------------------------------------------------------\n",
      " |  Class methods defined here:\n",
      " |  \n",
      " |  register_default_attributes() from builtins.type\n",
      " |      Registers the default values for the Span attributes defined in `DEFAULT_ATTRIBUTES`.\n",
      " |  \n",
      " |  register_graph_attributes() from builtins.type\n",
      " |      Registers spaCy attribute extensions: Span._.modifiers and Doc._.context_graph.\n",
      " |  \n",
      " |  ----------------------------------------------------------------------\n",
      " |  Readonly properties defined here:\n",
      " |  \n",
      " |  categories\n",
      " |      Returns list of categories available that Context might produce.\n",
      " |  \n",
      " |  rules\n",
      " |      Returns list of ConTextRules available to context.\n",
      " |  \n",
      " |  ----------------------------------------------------------------------\n",
      " |  Data descriptors defined here:\n",
      " |  \n",
      " |  __dict__\n",
      " |      dictionary for instance variables (if defined)\n",
      " |  \n",
      " |  __weakref__\n",
      " |      list of weak references to the object (if defined)\n",
      " |  \n",
      " |  input_span_type\n",
      " |      The input source of entities for the component. Must be either \"ents\" corresponding to doc.ents or \"group\" for\n",
      " |      a spaCy span group.\n",
      " |      \n",
      " |      Returns:\n",
      " |          The input type, \"ents\" or \"group\".\n",
      " |  \n",
      " |  span_group_name\n",
      " |      The name of the span group used by this component. If `input_type` is \"group\", calling this component will\n",
      " |      use spans in the span group with this name.\n",
      " |      \n",
      " |      Returns:\n",
      " |          The span group name.\n",
      "\n"
     ]
    }
   ],
   "source": [
    "help(context)"
   ]
  },
  {
   "cell_type": "markdown",
   "metadata": {},
   "source": [
    "## Part 1 - Load the pretained model and dependencies.\n",
    "Install python dependencies"
   ]
  },
  {
   "cell_type": "code",
   "execution_count": null,
   "metadata": {
    "vscode": {
     "languageId": "bat"
    }
   },
   "outputs": [],
   "source": [
    "!python -m pip install pandas\n",
    "!python -m pip install spacy\n",
    "!python -m pip install medspacy"
   ]
  },
  {
   "cell_type": "markdown",
   "metadata": {},
   "source": [
    "### Install Pretrained Model"
   ]
  },
  {
   "cell_type": "code",
   "execution_count": null,
   "metadata": {
    "vscode": {
     "languageId": "bat"
    }
   },
   "outputs": [],
   "source": [
    "!python -m pip install https://s3-us-west-2.amazonaws.com/ai2-s2-scispacy/releases/v0.5.1/en_ner_bc5cdr_md-0.5.1.tar.gz"
   ]
  },
  {
   "cell_type": "markdown",
   "metadata": {},
   "source": [
    "## Part 2 - Load the document and process with pretrained model + new context pipeline.\n",
    "\n",
    "This medical_doc variable in this example is a single sentence that would be part of a larger document. This was done to simplify the demonstration. Named entities are extracted using the en_ner_bc5cdr_md corpus and use the medspacy_context pipeline to tag entities with context modifications."
   ]
  },
  {
   "cell_type": "markdown",
   "metadata": {},
   "source": [
    "### Load spaCy and medspaCy + Context Pipeline"
   ]
  },
  {
   "cell_type": "code",
   "execution_count": 2,
   "metadata": {},
   "outputs": [
    {
     "data": {
      "text/plain": [
       "<medspacy.context.context.ConText at 0x1da8f6cbd60>"
      ]
     },
     "execution_count": 2,
     "metadata": {},
     "output_type": "execute_result"
    }
   ],
   "source": [
    "import spacy \n",
    "import medspacy\n",
    "from medspacy.context import ConText, ConTextRule\n",
    "from medspacy.visualization import visualize_ent, visualize_dep\n",
    "\n",
    "nlp = spacy.load(\"en_ner_bc5cdr_md\")\n",
    "nlp.add_pipe(\"medspacy_context\")"
   ]
  },
  {
   "cell_type": "markdown",
   "metadata": {},
   "source": [
    "### Create a New Set of Context Rules\n",
    "\n",
    "Load a blank set of context rules and define a set of new rules to prevent conflict. Note, in this example PSEUDO_MODIFIER_1 will be cancelled by PSEUDO_MODIFIER_0."
   ]
  },
  {
   "cell_type": "code",
   "execution_count": 7,
   "metadata": {},
   "outputs": [
    {
     "name": "stdout",
     "output_type": "stream",
     "text": [
      "Context Rules\n",
      "--------------------------------------\n"
     ]
    },
    {
     "data": {
      "text/plain": [
       "[ConTextRule(literal='REASON FOR', category='PSEUDO_MODIFIER_0', pattern=reason for, direction='FORWARD'),\n",
       " ConTextRule(literal='REASON FOR', category='PSEUDO_MODIFIER_1', pattern=reason, direction='FORWARD'),\n",
       " ConTextRule(literal='PROGRESSIVE', category='PSEUDO_MODIFIER_2', pattern=[{'LOWER': 'progressive'}], direction='BIDIRECTIONAL')]"
      ]
     },
     "execution_count": 7,
     "metadata": {},
     "output_type": "execute_result"
    }
   ],
   "source": [
    "context = ConText(nlp, rules=None)\n",
    "context_rules = [\n",
    "    ConTextRule(\"REASON FOR\", \"PSEUDO_MODIFIER_0\", direction=\"FORWARD\", pattern=\"reason for\"),\n",
    "    ConTextRule(\"REASON FOR\", \"PSEUDO_MODIFIER_1\", direction=\"FORWARD\", pattern=\"reason\"),\n",
    "    ConTextRule(\"PROGRESSIVE\", \"PSEUDO_MODIFIER_2\", direction=\"BIDIRECTIONAL\", pattern=[{\"LOWER\": \"progressive\"}], max_targets=1, terminated_by={\"PUNC\"})\n",
    "]\n",
    "context.add(context_rules)\n",
    "\n",
    "print(\"Context Rules\\r\\n--------------------------------------\")\n",
    "context.rules"
   ]
  },
  {
   "cell_type": "markdown",
   "metadata": {},
   "source": [
    "### Process The Document\n",
    "\n",
    "Define the document, run in through the NLP pipeline, and apply the context rules to the extracted entities."
   ]
  },
  {
   "cell_type": "code",
   "execution_count": 10,
   "metadata": {},
   "outputs": [
    {
     "data": {
      "text/plain": [
       "REASON FOR NEUROLOGICAL CONSULTATION,  Muscle twitching, progressive dizziness, clumsiness, progressive pain syndrome, and gait disturbance."
      ]
     },
     "execution_count": 10,
     "metadata": {},
     "output_type": "execute_result"
    }
   ],
   "source": [
    "medical_doc = \"REASON FOR NEUROLOGICAL CONSULTATION,  Muscle twitching, progressive dizziness, clumsiness, progressive pain syndrome, and gait disturbance.\"\n",
    "\n",
    "doc = nlp(medical_doc)\n",
    "context(doc)"
   ]
  },
  {
   "cell_type": "markdown",
   "metadata": {},
   "source": [
    "### Visual The Results\n",
    "\n",
    "Visualize the results. Observe that PSEUDO_MODIFIER_1 was cancelled by PSEUDO_MODIFIER_0. This is expected behavior in this scenario."
   ]
  },
  {
   "cell_type": "code",
   "execution_count": 16,
   "metadata": {},
   "outputs": [
    {
     "data": {
      "text/html": [
       "<h3>Entity Visualization</h3>Note, PSUDEO_MODIFIER_1 doesnt exist as it was cancelled by PSUDEO_MODIFIER_0.<hr>"
      ],
      "text/plain": [
       "<IPython.core.display.HTML object>"
      ]
     },
     "metadata": {},
     "output_type": "display_data"
    },
    {
     "data": {
      "text/html": [
       "<span class=\"tex2jax_ignore\"><div class=\"entities\" style=\"line-height: 2.5; direction: ltr\">\n",
       "<mark class=\"entity\" style=\"background: #1f77b4; padding: 0.45em 0.6em; margin: 0 0.25em; line-height: 1; border-radius: 0.35em;\">\n",
       "    REASON FOR\n",
       "    <span style=\"font-size: 0.8em; font-weight: bold; line-height: 1; border-radius: 0.35em; vertical-align: middle; margin-left: 0.5rem\">PSEUDO_MODIFIER_0</span>\n",
       "</mark>\n",
       " NEUROLOGICAL CONSULTATION,  \n",
       "<mark class=\"entity\" style=\"background: #2ca02c; padding: 0.45em 0.6em; margin: 0 0.25em; line-height: 1; border-radius: 0.35em;\">\n",
       "    Muscle twitching\n",
       "    <span style=\"font-size: 0.8em; font-weight: bold; line-height: 1; border-radius: 0.35em; vertical-align: middle; margin-left: 0.5rem\">DISEASE</span>\n",
       "</mark>\n",
       ", \n",
       "<mark class=\"entity\" style=\"background: #ff7f0e; padding: 0.45em 0.6em; margin: 0 0.25em; line-height: 1; border-radius: 0.35em;\">\n",
       "    progressive\n",
       "    <span style=\"font-size: 0.8em; font-weight: bold; line-height: 1; border-radius: 0.35em; vertical-align: middle; margin-left: 0.5rem\">PSEUDO_MODIFIER_2</span>\n",
       "</mark>\n",
       " \n",
       "<mark class=\"entity\" style=\"background: #2ca02c; padding: 0.45em 0.6em; margin: 0 0.25em; line-height: 1; border-radius: 0.35em;\">\n",
       "    dizziness\n",
       "    <span style=\"font-size: 0.8em; font-weight: bold; line-height: 1; border-radius: 0.35em; vertical-align: middle; margin-left: 0.5rem\">DISEASE</span>\n",
       "</mark>\n",
       ", \n",
       "<mark class=\"entity\" style=\"background: #2ca02c; padding: 0.45em 0.6em; margin: 0 0.25em; line-height: 1; border-radius: 0.35em;\">\n",
       "    clumsiness\n",
       "    <span style=\"font-size: 0.8em; font-weight: bold; line-height: 1; border-radius: 0.35em; vertical-align: middle; margin-left: 0.5rem\">DISEASE</span>\n",
       "</mark>\n",
       ", \n",
       "<mark class=\"entity\" style=\"background: #ff7f0e; padding: 0.45em 0.6em; margin: 0 0.25em; line-height: 1; border-radius: 0.35em;\">\n",
       "    progressive\n",
       "    <span style=\"font-size: 0.8em; font-weight: bold; line-height: 1; border-radius: 0.35em; vertical-align: middle; margin-left: 0.5rem\">PSEUDO_MODIFIER_2</span>\n",
       "</mark>\n",
       " \n",
       "<mark class=\"entity\" style=\"background: #2ca02c; padding: 0.45em 0.6em; margin: 0 0.25em; line-height: 1; border-radius: 0.35em;\">\n",
       "    pain syndrome\n",
       "    <span style=\"font-size: 0.8em; font-weight: bold; line-height: 1; border-radius: 0.35em; vertical-align: middle; margin-left: 0.5rem\">DISEASE</span>\n",
       "</mark>\n",
       ", and gait disturbance.</div></span>"
      ],
      "text/plain": [
       "<IPython.core.display.HTML object>"
      ]
     },
     "metadata": {},
     "output_type": "display_data"
    },
    {
     "data": {
      "text/html": [
       "<h3>Dependency Visualization</h3><hr>"
      ],
      "text/plain": [
       "<IPython.core.display.HTML object>"
      ]
     },
     "metadata": {},
     "output_type": "display_data"
    },
    {
     "data": {
      "text/html": [
       "<span class=\"tex2jax_ignore\"><svg xmlns=\"http://www.w3.org/2000/svg\" xmlns:xlink=\"http://www.w3.org/1999/xlink\" xml:lang=\"en\" id=\"f71fed9c32f4428981534a21b103fc64-0\" class=\"displacy\" width=\"3375\" height=\"487.0\" direction=\"ltr\" style=\"max-width: none; height: 487.0px; color: #000000; background: #ffffff; font-family: Arial; direction: ltr\">\n",
       "<text class=\"displacy-token\" fill=\"currentColor\" text-anchor=\"middle\" y=\"397.0\">\n",
       "    <tspan class=\"displacy-word\" fill=\"currentColor\" x=\"50\">REASON FOR</tspan>\n",
       "    <tspan class=\"displacy-tag\" dy=\"2em\" fill=\"currentColor\" x=\"50\">PSEUDO_MODIFIER_0</tspan>\n",
       "</text>\n",
       "\n",
       "<text class=\"displacy-token\" fill=\"currentColor\" text-anchor=\"middle\" y=\"397.0\">\n",
       "    <tspan class=\"displacy-word\" fill=\"currentColor\" x=\"225\">NEUROLOGICAL</tspan>\n",
       "    <tspan class=\"displacy-tag\" dy=\"2em\" fill=\"currentColor\" x=\"225\"></tspan>\n",
       "</text>\n",
       "\n",
       "<text class=\"displacy-token\" fill=\"currentColor\" text-anchor=\"middle\" y=\"397.0\">\n",
       "    <tspan class=\"displacy-word\" fill=\"currentColor\" x=\"400\">CONSULTATION</tspan>\n",
       "    <tspan class=\"displacy-tag\" dy=\"2em\" fill=\"currentColor\" x=\"400\"></tspan>\n",
       "</text>\n",
       "\n",
       "<text class=\"displacy-token\" fill=\"currentColor\" text-anchor=\"middle\" y=\"397.0\">\n",
       "    <tspan class=\"displacy-word\" fill=\"currentColor\" x=\"575\">,</tspan>\n",
       "    <tspan class=\"displacy-tag\" dy=\"2em\" fill=\"currentColor\" x=\"575\"></tspan>\n",
       "</text>\n",
       "\n",
       "<text class=\"displacy-token\" fill=\"currentColor\" text-anchor=\"middle\" y=\"397.0\">\n",
       "    <tspan class=\"displacy-word\" fill=\"currentColor\" x=\"750\"> </tspan>\n",
       "    <tspan class=\"displacy-tag\" dy=\"2em\" fill=\"currentColor\" x=\"750\"></tspan>\n",
       "</text>\n",
       "\n",
       "<text class=\"displacy-token\" fill=\"currentColor\" text-anchor=\"middle\" y=\"397.0\">\n",
       "    <tspan class=\"displacy-word\" fill=\"currentColor\" x=\"925\">Muscle twitching</tspan>\n",
       "    <tspan class=\"displacy-tag\" dy=\"2em\" fill=\"currentColor\" x=\"925\">DISEASE</tspan>\n",
       "</text>\n",
       "\n",
       "<text class=\"displacy-token\" fill=\"currentColor\" text-anchor=\"middle\" y=\"397.0\">\n",
       "    <tspan class=\"displacy-word\" fill=\"currentColor\" x=\"1100\">,</tspan>\n",
       "    <tspan class=\"displacy-tag\" dy=\"2em\" fill=\"currentColor\" x=\"1100\"></tspan>\n",
       "</text>\n",
       "\n",
       "<text class=\"displacy-token\" fill=\"currentColor\" text-anchor=\"middle\" y=\"397.0\">\n",
       "    <tspan class=\"displacy-word\" fill=\"currentColor\" x=\"1275\">progressive</tspan>\n",
       "    <tspan class=\"displacy-tag\" dy=\"2em\" fill=\"currentColor\" x=\"1275\">PSEUDO_MODIFIER_2</tspan>\n",
       "</text>\n",
       "\n",
       "<text class=\"displacy-token\" fill=\"currentColor\" text-anchor=\"middle\" y=\"397.0\">\n",
       "    <tspan class=\"displacy-word\" fill=\"currentColor\" x=\"1450\">dizziness</tspan>\n",
       "    <tspan class=\"displacy-tag\" dy=\"2em\" fill=\"currentColor\" x=\"1450\">DISEASE</tspan>\n",
       "</text>\n",
       "\n",
       "<text class=\"displacy-token\" fill=\"currentColor\" text-anchor=\"middle\" y=\"397.0\">\n",
       "    <tspan class=\"displacy-word\" fill=\"currentColor\" x=\"1625\">,</tspan>\n",
       "    <tspan class=\"displacy-tag\" dy=\"2em\" fill=\"currentColor\" x=\"1625\"></tspan>\n",
       "</text>\n",
       "\n",
       "<text class=\"displacy-token\" fill=\"currentColor\" text-anchor=\"middle\" y=\"397.0\">\n",
       "    <tspan class=\"displacy-word\" fill=\"currentColor\" x=\"1800\">clumsiness</tspan>\n",
       "    <tspan class=\"displacy-tag\" dy=\"2em\" fill=\"currentColor\" x=\"1800\">DISEASE</tspan>\n",
       "</text>\n",
       "\n",
       "<text class=\"displacy-token\" fill=\"currentColor\" text-anchor=\"middle\" y=\"397.0\">\n",
       "    <tspan class=\"displacy-word\" fill=\"currentColor\" x=\"1975\">,</tspan>\n",
       "    <tspan class=\"displacy-tag\" dy=\"2em\" fill=\"currentColor\" x=\"1975\"></tspan>\n",
       "</text>\n",
       "\n",
       "<text class=\"displacy-token\" fill=\"currentColor\" text-anchor=\"middle\" y=\"397.0\">\n",
       "    <tspan class=\"displacy-word\" fill=\"currentColor\" x=\"2150\">progressive</tspan>\n",
       "    <tspan class=\"displacy-tag\" dy=\"2em\" fill=\"currentColor\" x=\"2150\">PSEUDO_MODIFIER_2</tspan>\n",
       "</text>\n",
       "\n",
       "<text class=\"displacy-token\" fill=\"currentColor\" text-anchor=\"middle\" y=\"397.0\">\n",
       "    <tspan class=\"displacy-word\" fill=\"currentColor\" x=\"2325\">pain syndrome</tspan>\n",
       "    <tspan class=\"displacy-tag\" dy=\"2em\" fill=\"currentColor\" x=\"2325\">DISEASE</tspan>\n",
       "</text>\n",
       "\n",
       "<text class=\"displacy-token\" fill=\"currentColor\" text-anchor=\"middle\" y=\"397.0\">\n",
       "    <tspan class=\"displacy-word\" fill=\"currentColor\" x=\"2500\">,</tspan>\n",
       "    <tspan class=\"displacy-tag\" dy=\"2em\" fill=\"currentColor\" x=\"2500\"></tspan>\n",
       "</text>\n",
       "\n",
       "<text class=\"displacy-token\" fill=\"currentColor\" text-anchor=\"middle\" y=\"397.0\">\n",
       "    <tspan class=\"displacy-word\" fill=\"currentColor\" x=\"2675\">and</tspan>\n",
       "    <tspan class=\"displacy-tag\" dy=\"2em\" fill=\"currentColor\" x=\"2675\"></tspan>\n",
       "</text>\n",
       "\n",
       "<text class=\"displacy-token\" fill=\"currentColor\" text-anchor=\"middle\" y=\"397.0\">\n",
       "    <tspan class=\"displacy-word\" fill=\"currentColor\" x=\"2850\">gait</tspan>\n",
       "    <tspan class=\"displacy-tag\" dy=\"2em\" fill=\"currentColor\" x=\"2850\"></tspan>\n",
       "</text>\n",
       "\n",
       "<text class=\"displacy-token\" fill=\"currentColor\" text-anchor=\"middle\" y=\"397.0\">\n",
       "    <tspan class=\"displacy-word\" fill=\"currentColor\" x=\"3025\">disturbance</tspan>\n",
       "    <tspan class=\"displacy-tag\" dy=\"2em\" fill=\"currentColor\" x=\"3025\"></tspan>\n",
       "</text>\n",
       "\n",
       "<text class=\"displacy-token\" fill=\"currentColor\" text-anchor=\"middle\" y=\"397.0\">\n",
       "    <tspan class=\"displacy-word\" fill=\"currentColor\" x=\"3200\">.</tspan>\n",
       "    <tspan class=\"displacy-tag\" dy=\"2em\" fill=\"currentColor\" x=\"3200\"></tspan>\n",
       "</text>\n",
       "\n",
       "<g class=\"displacy-arrow\">\n",
       "    <path class=\"displacy-arc\" id=\"arrow-f71fed9c32f4428981534a21b103fc64-0-0\" stroke-width=\"2px\" d=\"M70,352.0 C70,264.5 910.0,264.5 910.0,352.0\" fill=\"none\" stroke=\"currentColor\"/>\n",
       "    <text dy=\"1.25em\" style=\"font-size: 0.8em; letter-spacing: 1px\">\n",
       "        <textPath xlink:href=\"#arrow-f71fed9c32f4428981534a21b103fc64-0-0\" class=\"displacy-label\" startOffset=\"50%\" side=\"left\" fill=\"currentColor\" text-anchor=\"middle\">PSEUDO_MODIFIER_0</textPath>\n",
       "    </text>\n",
       "    <path class=\"displacy-arrowhead\" d=\"M910.0,354.0 L918.0,342.0 902.0,342.0\" fill=\"currentColor\"/>\n",
       "</g>\n",
       "\n",
       "<g class=\"displacy-arrow\">\n",
       "    <path class=\"displacy-arc\" id=\"arrow-f71fed9c32f4428981534a21b103fc64-0-1\" stroke-width=\"2px\" d=\"M70,352.0 C70,177.0 1440.0,177.0 1440.0,352.0\" fill=\"none\" stroke=\"currentColor\"/>\n",
       "    <text dy=\"1.25em\" style=\"font-size: 0.8em; letter-spacing: 1px\">\n",
       "        <textPath xlink:href=\"#arrow-f71fed9c32f4428981534a21b103fc64-0-1\" class=\"displacy-label\" startOffset=\"50%\" side=\"left\" fill=\"currentColor\" text-anchor=\"middle\">PSEUDO_MODIFIER_0</textPath>\n",
       "    </text>\n",
       "    <path class=\"displacy-arrowhead\" d=\"M1440.0,354.0 L1448.0,342.0 1432.0,342.0\" fill=\"currentColor\"/>\n",
       "</g>\n",
       "\n",
       "<g class=\"displacy-arrow\">\n",
       "    <path class=\"displacy-arc\" id=\"arrow-f71fed9c32f4428981534a21b103fc64-0-2\" stroke-width=\"2px\" d=\"M70,352.0 C70,89.5 1795.0,89.5 1795.0,352.0\" fill=\"none\" stroke=\"currentColor\"/>\n",
       "    <text dy=\"1.25em\" style=\"font-size: 0.8em; letter-spacing: 1px\">\n",
       "        <textPath xlink:href=\"#arrow-f71fed9c32f4428981534a21b103fc64-0-2\" class=\"displacy-label\" startOffset=\"50%\" side=\"left\" fill=\"currentColor\" text-anchor=\"middle\">PSEUDO_MODIFIER_0</textPath>\n",
       "    </text>\n",
       "    <path class=\"displacy-arrowhead\" d=\"M1795.0,354.0 L1803.0,342.0 1787.0,342.0\" fill=\"currentColor\"/>\n",
       "</g>\n",
       "\n",
       "<g class=\"displacy-arrow\">\n",
       "    <path class=\"displacy-arc\" id=\"arrow-f71fed9c32f4428981534a21b103fc64-0-3\" stroke-width=\"2px\" d=\"M70,352.0 C70,2.0 2325.0,2.0 2325.0,352.0\" fill=\"none\" stroke=\"currentColor\"/>\n",
       "    <text dy=\"1.25em\" style=\"font-size: 0.8em; letter-spacing: 1px\">\n",
       "        <textPath xlink:href=\"#arrow-f71fed9c32f4428981534a21b103fc64-0-3\" class=\"displacy-label\" startOffset=\"50%\" side=\"left\" fill=\"currentColor\" text-anchor=\"middle\">PSEUDO_MODIFIER_0</textPath>\n",
       "    </text>\n",
       "    <path class=\"displacy-arrowhead\" d=\"M2325.0,354.0 L2333.0,342.0 2317.0,342.0\" fill=\"currentColor\"/>\n",
       "</g>\n",
       "\n",
       "<g class=\"displacy-arrow\">\n",
       "    <path class=\"displacy-arc\" id=\"arrow-f71fed9c32f4428981534a21b103fc64-0-4\" stroke-width=\"2px\" d=\"M1295,352.0 C1295,264.5 1435.0,264.5 1435.0,352.0\" fill=\"none\" stroke=\"currentColor\"/>\n",
       "    <text dy=\"1.25em\" style=\"font-size: 0.8em; letter-spacing: 1px\">\n",
       "        <textPath xlink:href=\"#arrow-f71fed9c32f4428981534a21b103fc64-0-4\" class=\"displacy-label\" startOffset=\"50%\" side=\"left\" fill=\"currentColor\" text-anchor=\"middle\">PSEUDO_MODIFIER_2</textPath>\n",
       "    </text>\n",
       "    <path class=\"displacy-arrowhead\" d=\"M1435.0,354.0 L1443.0,342.0 1427.0,342.0\" fill=\"currentColor\"/>\n",
       "</g>\n",
       "\n",
       "<g class=\"displacy-arrow\">\n",
       "    <path class=\"displacy-arc\" id=\"arrow-f71fed9c32f4428981534a21b103fc64-0-5\" stroke-width=\"2px\" d=\"M2170,352.0 C2170,264.5 2310.0,264.5 2310.0,352.0\" fill=\"none\" stroke=\"currentColor\"/>\n",
       "    <text dy=\"1.25em\" style=\"font-size: 0.8em; letter-spacing: 1px\">\n",
       "        <textPath xlink:href=\"#arrow-f71fed9c32f4428981534a21b103fc64-0-5\" class=\"displacy-label\" startOffset=\"50%\" side=\"left\" fill=\"currentColor\" text-anchor=\"middle\">PSEUDO_MODIFIER_2</textPath>\n",
       "    </text>\n",
       "    <path class=\"displacy-arrowhead\" d=\"M2310.0,354.0 L2318.0,342.0 2302.0,342.0\" fill=\"currentColor\"/>\n",
       "</g>\n",
       "</svg></span>"
      ],
      "text/plain": [
       "<IPython.core.display.HTML object>"
      ]
     },
     "metadata": {},
     "output_type": "display_data"
    }
   ],
   "source": [
    "###########################################################\n",
    "\n",
    "from IPython.display import display, HTML\n",
    "\n",
    "display(HTML('<h3>Entity Visualization</h3>Note, PSUDEO_MODIFIER_1 doesnt exist as it was cancelled by PSUDEO_MODIFIER_0.<hr>'))\n",
    "visualize_ent(doc)\n",
    "\n",
    "display(HTML('<h3>Dependency Visualization</h3><hr>'))\n",
    "visualize_dep(doc)"
   ]
  }
 ],
 "metadata": {
  "kernelspec": {
   "display_name": "text_summarization",
   "language": "python",
   "name": "python3"
  },
  "language_info": {
   "codemirror_mode": {
    "name": "ipython",
    "version": 3
   },
   "file_extension": ".py",
   "mimetype": "text/x-python",
   "name": "python",
   "nbconvert_exporter": "python",
   "pygments_lexer": "ipython3",
   "version": "3.10.12"
  },
  "orig_nbformat": 4
 },
 "nbformat": 4,
 "nbformat_minor": 2
}
