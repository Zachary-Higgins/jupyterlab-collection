{
 "cells": [
  {
   "cell_type": "markdown",
   "metadata": {},
   "source": [
    "# Serializing Context Rules For Use w/medspaCy Context Pipeline.\n",
    "\n",
    "This example demonstreates how to serialize a set of context rules to be used later."
   ]
  },
  {
   "cell_type": "markdown",
   "metadata": {},
   "source": [
    "## Part 1 - Load medspacy dependencies.\n",
    "Install python dependencies"
   ]
  },
  {
   "cell_type": "code",
   "execution_count": null,
   "metadata": {
    "vscode": {
     "languageId": "bat"
    }
   },
   "outputs": [],
   "source": [
    "!python -m pip install medspacy"
   ]
  },
  {
   "cell_type": "markdown",
   "metadata": {},
   "source": [
    "## Part 2 - Work with context rules."
   ]
  },
  {
   "cell_type": "code",
   "execution_count": 60,
   "metadata": {
    "vscode": {
     "languageId": "bat"
    }
   },
   "outputs": [
    {
     "name": "stdout",
     "output_type": "stream",
     "text": [
      "Help on class ConTextRule in module medspacy.context.context_rule:\n",
      "\n",
      "class ConTextRule(medspacy.common.base_rule.BaseRule)\n",
      " |  ConTextRule(literal: 'str', category: 'str', pattern: 'Optional[Union[str, List[Dict[str, str]]]]' = None, direction: 'str' = 'BIDIRECTIONAL', on_match: 'Optional[Callable[[Matcher, Doc, int, List[Tuple[int, int, int]]], Any]]' = None, on_modifies: 'Optional[Callable[[Span, Span, Span], bool]]' = None, allowed_types: 'Optional[Set[str]]' = None, excluded_types: 'Optional[Set[str]]' = None, max_scope: 'Optional[int]' = None, max_targets: 'Optional[int]' = None, terminated_by: 'Optional[Set[str]]' = None, metadata: 'Optional[Dict[Any, Any]]' = None)\n",
      " |  \n",
      " |  A ConTextRule defines a ConText modifier. ConTextRules are rules which define which spans are extracted as modifiers\n",
      " |  and how they behave, such as the phrase to be matched, the category/semantic class, the direction of the modifier in\n",
      " |  the text, and what types of target spans can be modified.\n",
      " |  \n",
      " |  Method resolution order:\n",
      " |      ConTextRule\n",
      " |      medspacy.common.base_rule.BaseRule\n",
      " |      builtins.object\n",
      " |  \n",
      " |  Methods defined here:\n",
      " |  \n",
      " |  __init__(self, literal: 'str', category: 'str', pattern: 'Optional[Union[str, List[Dict[str, str]]]]' = None, direction: 'str' = 'BIDIRECTIONAL', on_match: 'Optional[Callable[[Matcher, Doc, int, List[Tuple[int, int, int]]], Any]]' = None, on_modifies: 'Optional[Callable[[Span, Span, Span], bool]]' = None, allowed_types: 'Optional[Set[str]]' = None, excluded_types: 'Optional[Set[str]]' = None, max_scope: 'Optional[int]' = None, max_targets: 'Optional[int]' = None, terminated_by: 'Optional[Set[str]]' = None, metadata: 'Optional[Dict[Any, Any]]' = None)\n",
      " |      Creates a ConTextRule object.\n",
      " |      \n",
      " |      The primary arguments of `literal` `category`, and `direction` define the span of text to be matched, the\n",
      " |      semantic category, and the direction within the sentence in which the modifier operates.\n",
      " |      Other arguments specify additional custom logic such as:\n",
      " |          - Additional control over what text can be matched as a modifier (pattern and on_match)\n",
      " |          - Which types of targets can be modified (allowed_types, excluded_types)\n",
      " |          - The scope size and number of targets that a modifier can modify (max_targets, max_scope)\n",
      " |          - Other logic for terminating a span or for allowing a modifier to modify a target (on_modifies,\n",
      " |          terminated_by)\n",
      " |      \n",
      " |      Args:\n",
      " |          literal: The string representation of a concept. If `pattern` is None, this string will be lower-cased and\n",
      " |              matched to the lower-case string. If `pattern` is not None, this argument will not be used for matching\n",
      " |              but can be used as a reference as the rule name.\n",
      " |          category: The semantic class of the matched span. This corresponds to the `label_` attribute of an entity.\n",
      " |          pattern: A list or string to use as a spaCy pattern rather than `literal`. If a list, will use spaCy\n",
      " |              token-based pattern matching to match using token attributes. If a string, will use medspaCy's\n",
      " |              RegexMatcher. If None, will use `literal` as the pattern for phrase matching. For more information, see\n",
      " |              https://spacy.io/usage/rule-based-matching.\n",
      " |          direction: The directionality or action of a modifier. This defines which part of a sentence a modifier will\n",
      " |              include as its scope. Entities within the scope will be considered to be modified.\n",
      " |              Valid values are:\n",
      " |              - \"FORWARD\": Scope will begin after the end of a modifier and move to the right\n",
      " |              - \"BACKWARD\": Scope will begin before the beginning of a modifier and move to the left\n",
      " |              - \"BIDIRECTIONAL\": Scope will expand on either side of a modifier\n",
      " |              - \"TERMINATE\": A special direction to limit any other modifiers if this phrase is in its scope. Example:\n",
      " |                  \"no evidence of chf but there is pneumonia\": \"but\" will prevent \"no evidence of\" from modifying\n",
      " |                  \"pneumonia\"\n",
      " |              - \"PSEUDO\": A special direction which will not modify any targets. This can be used for differentiating\n",
      " |                  superstrings of modifiers. Example: A modifier with literal=\"negative attitude\" will prevent the\n",
      " |                  phrase \"negative\" in \"She has a negative attitude about her treatment\" from being extracted as a\n",
      " |                  modifier.\n",
      " |          on_match: An optional callback function or other callable which takes 4 arguments: `(matcher, doc, i,\n",
      " |              matches)`. For more information, see https://spacy.io/usage/rule-based-matching#on_match\n",
      " |          on_modifies: Callback function to run when building an edge between a target and a modifier. This allows\n",
      " |              specifying custom logic for allowing or preventing certain modifiers from modifying certain targets. The\n",
      " |              callable should take 3 arguments:\n",
      " |                  target: The spaCy Span from doc.ents (ie., 'Evidence of pneumonia')\n",
      " |                  modifier: The spaCy Span covered in a resulting modifier (ie., 'no evidence of')\n",
      " |                  span_between: The Span between the target and modifier in question.\n",
      " |              Should return either True or False. If returns False, then the modifier will not modify the target.\n",
      " |          allowed_types: A collection of target labels to allow a modifier to modify. If None, will apply to any type\n",
      " |              not specifically excluded in excluded_types. Only one of allowed_types and excluded_types can be used.\n",
      " |              An error will be thrown if both are not None.\n",
      " |          excluded_types: A collection of target labels which this modifier cannot modify. If None, will apply to all\n",
      " |              target types unless allowed_types is not None.\n",
      " |          max_scope: A number of tokens to explicitly limit the size of the modifier's scope. If None, the scope will\n",
      " |              include the entire sentence in the direction of `direction` and the entire sentence for \"BIDIRECTIONAL\".\n",
      " |              This is useful for requiring modifiers be very close to a concept in the text or for preventing long\n",
      " |              modifier ranges caused by sentence splitting problems.\n",
      " |          max_targets: The maximum number of targets which a modifier can modify. If None, will modify all targets in\n",
      " |              its scope.\n",
      " |          terminated_by: An optional collection of other modifier categories which will terminate the scope of this\n",
      " |              modifier. If None, only \"TERMINATE\" will do this. Example: if a ConTextRule defining \"positive for\" has\n",
      " |              terminated_by={\"NEGATED_EXISTENCE\"}, then in the sentence \"positive for flu, negative for RSV\", the\n",
      " |              positive modifier will modify \"flu\" but will be terminated by \"negative for\" and will not modify \"RSV\".\n",
      " |              This helps prevent multiple conflicting modifiers from distributing too far across a sentence.\n",
      " |          metadata: Optional dictionary of any extra metadata.\n",
      " |  \n",
      " |  __repr__(self)\n",
      " |      Return repr(self).\n",
      " |  \n",
      " |  to_dict(self)\n",
      " |      Converts ConTextItems to a python dictionary. Used when writing context rules to a json file.\n",
      " |      \n",
      " |      Returns:\n",
      " |          The dictionary containing the ConTextRule info.\n",
      " |  \n",
      " |  ----------------------------------------------------------------------\n",
      " |  Class methods defined here:\n",
      " |  \n",
      " |  from_dict(rule_dict) -> 'ConTextRule' from builtins.type\n",
      " |      Reads a dictionary into a ConTextRule.\n",
      " |      \n",
      " |      Args:\n",
      " |          rule_dict: The dictionary to convert.\n",
      " |      \n",
      " |      Returns:\n",
      " |          The ConTextRule created from the dictionary.\n",
      " |  \n",
      " |  from_json(filepath) -> 'List[ConTextRule]' from builtins.type\n",
      " |      Reads in a lexicon of modifiers from a JSON file under the key `context_rules`.\n",
      " |      \n",
      " |      Args:\n",
      " |          filepath: The .json file containing modifier rules. Must contain `context_rules` key containing the rule\n",
      " |              JSONs.\n",
      " |      \n",
      " |      Returns:\n",
      " |          A list of ConTextRules objects read from the JSON.\n",
      " |  \n",
      " |  to_json(context_rules: 'List[ConTextRule]', filepath: 'str') from builtins.type\n",
      " |      Writes ConTextItems to a json file.\n",
      " |      \n",
      " |      Args:\n",
      " |      context_rules: a list of ContextRules that will be written to a file.\n",
      " |      filepath: the .json file to contain modifier rules\n",
      " |  \n",
      " |  ----------------------------------------------------------------------\n",
      " |  Data descriptors inherited from medspacy.common.base_rule.BaseRule:\n",
      " |  \n",
      " |  __dict__\n",
      " |      dictionary for instance variables (if defined)\n",
      " |  \n",
      " |  __weakref__\n",
      " |      list of weak references to the object (if defined)\n",
      "\n"
     ]
    }
   ],
   "source": [
    "help(ConTextRule)"
   ]
  },
  {
   "cell_type": "markdown",
   "metadata": {},
   "source": [
    "### Create a New Set of Context Rules\n",
    "\n",
    "Create set of context rules that will be serialized."
   ]
  },
  {
   "cell_type": "code",
   "execution_count": 57,
   "metadata": {},
   "outputs": [
    {
     "name": "stdout",
     "output_type": "stream",
     "text": [
      "Context Rules\n",
      "--------------------------------------\n"
     ]
    },
    {
     "data": {
      "text/plain": [
       "[ConTextRule(literal='REASON FOR', category='PSEUDO_MODIFIER_0', pattern=reason for, direction='FORWARD'),\n",
       " ConTextRule(literal='REASON FOR', category='PSEUDO_MODIFIER_1', pattern=reason, direction='FORWARD'),\n",
       " ConTextRule(literal='PROGRESSIVE', category='PSEUDO_MODIFIER_2', pattern=[{'LOWER': 'progressive'}], direction='BIDIRECTIONAL')]"
      ]
     },
     "execution_count": 57,
     "metadata": {},
     "output_type": "execute_result"
    }
   ],
   "source": [
    "import medspacy\n",
    "\n",
    "context = ConText(nlp, rules=None)\n",
    "context_rules = [\n",
    "    ConTextRule(\"REASON FOR\", \"PSEUDO_MODIFIER_0\", direction=\"FORWARD\", pattern=\"reason for\"),\n",
    "    ConTextRule(\"REASON FOR\", \"PSEUDO_MODIFIER_1\", direction=\"FORWARD\", pattern=\"reason\"),\n",
    "    ConTextRule(\"PROGRESSIVE\", \"PSEUDO_MODIFIER_2\", direction=\"BIDIRECTIONAL\", pattern=[{\"LOWER\": \"progressive\"}], max_targets=1, terminated_by={\"PUNC\"})\n",
    "]\n",
    "context.add(context_rules)\n",
    "\n",
    "print(\"Context Rules\\r\\n--------------------------------------\")\n",
    "context.rules"
   ]
  },
  {
   "cell_type": "markdown",
   "metadata": {},
   "source": [
    "### Serialize Context Rules\n",
    "\n",
    "Serialize all context rules to list of json objects. Use the to_json and from_json functions to save to a file."
   ]
  },
  {
   "cell_type": "code",
   "execution_count": 58,
   "metadata": {},
   "outputs": [
    {
     "name": "stdout",
     "output_type": "stream",
     "text": [
      "Serialized list of context rules\n",
      "--------------------------------------\n"
     ]
    },
    {
     "data": {
      "text/plain": [
       "[{'literal': 'REASON FOR',\n",
       "  'pattern': 'reason for',\n",
       "  'category': 'PSEUDO_MODIFIER_0',\n",
       "  'direction': 'FORWARD'},\n",
       " {'literal': 'REASON FOR',\n",
       "  'pattern': 'reason',\n",
       "  'category': 'PSEUDO_MODIFIER_1',\n",
       "  'direction': 'FORWARD'},\n",
       " {'literal': 'PROGRESSIVE',\n",
       "  'pattern': [{'LOWER': 'progressive'}],\n",
       "  'max_targets': 1,\n",
       "  'category': 'PSEUDO_MODIFIER_2',\n",
       "  'direction': 'BIDIRECTIONAL'}]"
      ]
     },
     "execution_count": 58,
     "metadata": {},
     "output_type": "execute_result"
    }
   ],
   "source": [
    "rules_dict = [rule.to_dict() for rule in context.rules]\n",
    "\n",
    "print(\"Serialized list of context rules\\r\\n--------------------------------------\")\n",
    "rules_dict"
   ]
  },
  {
   "cell_type": "markdown",
   "metadata": {},
   "source": [
    "### Create New Context With No Rules & Load To Context"
   ]
  },
  {
   "cell_type": "code",
   "execution_count": 59,
   "metadata": {},
   "outputs": [
    {
     "name": "stdout",
     "output_type": "stream",
     "text": [
      "Context rules loaded to medspacy context\n",
      "--------------------------------------\n"
     ]
    },
    {
     "data": {
      "text/plain": [
       "[ConTextRule(literal='REASON FOR', category='PSEUDO_MODIFIER_0', pattern=reason for, direction='FORWARD'),\n",
       " ConTextRule(literal='REASON FOR', category='PSEUDO_MODIFIER_1', pattern=reason, direction='FORWARD'),\n",
       " ConTextRule(literal='PROGRESSIVE', category='PSEUDO_MODIFIER_2', pattern=[{'LOWER': 'progressive'}], direction='BIDIRECTIONAL')]"
      ]
     },
     "execution_count": 59,
     "metadata": {},
     "output_type": "execute_result"
    }
   ],
   "source": [
    "# Create New Context - for demonstration purposes\n",
    "context = ConText(nlp, rules=None)\n",
    "context.rules\n",
    "\n",
    "# Load each serialized rule to list of context rules and add to context rules.\n",
    "context_rules = [ConTextRule.from_dict(rule) for rule in rules_dict]\n",
    "context.add(context_rules)\n",
    "\n",
    "# Print loaded context ryles from context\n",
    "print(\"Context rules loaded to medspacy context\\r\\n--------------------------------------\")\n",
    "context.rules"
   ]
  }
 ],
 "metadata": {
  "kernelspec": {
   "display_name": "text_summarization",
   "language": "python",
   "name": "python3"
  },
  "language_info": {
   "codemirror_mode": {
    "name": "ipython",
    "version": 3
   },
   "file_extension": ".py",
   "mimetype": "text/x-python",
   "name": "python",
   "nbconvert_exporter": "python",
   "pygments_lexer": "ipython3",
   "version": "3.10.12"
  },
  "orig_nbformat": 4
 },
 "nbformat": 4,
 "nbformat_minor": 2
}
