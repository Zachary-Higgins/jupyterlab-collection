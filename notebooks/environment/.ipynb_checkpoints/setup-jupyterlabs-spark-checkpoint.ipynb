{
 "cells": [
  {
   "cell_type": "markdown",
   "id": "0be37d47-8eb2-4d65-94e1-cdd4e2a313df",
   "metadata": {},
   "source": [
    "# How To Setup Jupyter Labs w/Spark Docker Container\n",
    "\n",
    "This notebook serves as a reminder/summarized guide demonstrating how to setup a Jupyter Labs Pyspark docker container.\n",
    "\n",
    "- Update wsl ```wsl --update```\n",
    "- Download and install docker: https://docs.docker.com/desktop/install/windows-install/\n",
    "- Run the docker container: ```docker run --detach -p 8888:8888 -p 4040:4040 -p 4041:4041 jupyter/pyspark-notebook```\n",
    "- Get the Jupyer Labs URL from the docker container terminal.\n",
    "- Visit the docs: https://jupyter-docker-stacks.readthedocs.io/en/latest/using/specifics.html#apache-spark"
   ]
  },
  {
   "cell_type": "code",
   "execution_count": 17,
   "id": "02d23582-89b0-4f2f-88d7-6e65d8db02af",
   "metadata": {},
   "outputs": [
    {
     "data": {
      "text/plain": [
       "5050"
      ]
     },
     "execution_count": 17,
     "metadata": {},
     "output_type": "execute_result"
    }
   ],
   "source": [
    "from pyspark.sql import SparkSession\n",
    "\n",
    "# Spark session & context\n",
    "spark = SparkSession.builder.master(\"local\").getOrCreate()\n",
    "sc = spark.sparkContext\n",
    "\n",
    "# Sum of the first 100 whole numbers\n",
    "rdd = sc.parallelize(range(100 + 1))\n",
    "rdd.sum()\n",
    "# 5050"
   ]
  }
 ],
 "metadata": {
  "kernelspec": {
   "display_name": "Python 3 (ipykernel)",
   "language": "python",
   "name": "python3"
  },
  "language_info": {
   "codemirror_mode": {
    "name": "ipython",
    "version": 3
   },
   "file_extension": ".py",
   "mimetype": "text/x-python",
   "name": "python",
   "nbconvert_exporter": "python",
   "pygments_lexer": "ipython3",
   "version": "3.11.5"
  },
  "widgets": {
   "application/vnd.jupyter.widget-state+json": {
    "state": {},
    "version_major": 2,
    "version_minor": 0
   }
  }
 },
 "nbformat": 4,
 "nbformat_minor": 5
}
